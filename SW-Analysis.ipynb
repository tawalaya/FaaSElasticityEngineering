{
 "cells": [
  {
   "cell_type": "code",
   "execution_count": 1,
   "metadata": {
    "scrolled": true
   },
   "outputs": [],
   "source": [
    "import pandas as pd\n",
    "import matplotlib.pyplot as plt\n",
    "import matplotlib\n",
    "import seaborn as sns\n",
    "import numpy as np\n",
    "import matplotlib.collections\n",
    "sns.set()\n",
    "from results import load\n",
    "\n",
    "from mpl_toolkits.axes_grid1.axes_divider import make_axes_locatable\n",
    "from mpl_toolkits.axes_grid1.colorbar import colorbar\n",
    "\n",
    "#constants\n",
    "experiment_phase = {'p0':60000, 'p1':60000, 'p2':180000}\n",
    "experiment_phase_labels = [*experiment_phase]"
   ]
  },
  {
   "cell_type": "markdown",
   "metadata": {},
   "source": [
    "# Reading the results"
   ]
  },
  {
   "cell_type": "code",
   "execution_count": 2,
   "metadata": {
    "scrolled": true
   },
   "outputs": [
    {
     "data": {
      "text/plain": [
       "Index(['Unnamed: 0', 'RId', 'WL', 'CId', 'CStart', 'ECost', 'DLat', 'ELat',\n",
       "       'RFailed', 'Phase', 'RStart', 'EStart', 'EEnd', 'REnd', 'CNew', 'CPlat',\n",
       "       'TLat', 'COs', 'RInput', 'Provider', 'RLat', 'BLat', 'RResult', 'run',\n",
       "       'sourceFile', 'RCode', 'RSuccessed', 'HId'],\n",
       "      dtype='object')"
      ]
     },
     "execution_count": 2,
     "metadata": {},
     "output_type": "execute_result"
    }
   ],
   "source": [
    "#config\n",
    "experiment_name = \"full\"\n",
    "load_raw = False\n",
    "all = None\n",
    "providers = None\n",
    "num_repetitions = None\n",
    "configs = None\n",
    "\n",
    "if load_raw:\n",
    "\n",
    "    providers = [\"aws\",\"azure\",\"ibm\",\"gcf\"] \n",
    "    num_repetitions = 1\n",
    "    configs = [\"0,0,1\", \"0,0,2\",\"0,0,0.5\",\"60,60,1\",\"60,60,0.5\"]\n",
    "\n",
    "\n",
    "    all = load(experiment_name, providers,configs,num_repetitions,True)\n",
    "    all.to_csv(\"results/full.csv\")\n",
    "else :\n",
    "    all = pd.read_csv(\"results/full.csv\")#\n",
    "    providers = all[\"Provider\"].unique()\n",
    "    num_repetitions = all[\"run\"].max()\n",
    "    configs = all[\"WL\"].unique()\n",
    "\n",
    "all.columns\n"
   ]
  },
  {
   "cell_type": "code",
   "execution_count": 3,
   "metadata": {},
   "outputs": [],
   "source": [
    "def plotWorkload(ax,data,label=\"Target Workload\",interval=1000):\n",
    "    data[\"RStart_1s\"] = round(data[\"RStart\"]/interval)\n",
    "    lats = data.groupby([\"RStart_1s\"])['RId'].count().reset_index(name=\"workload\")\n",
    "    sns.lineplot(x=\"RStart_1s\", y='workload', data=lats, color=\"gray\",label=label,ax=ax)\n",
    "    \n",
    "def lighten_color(color, amount=0.5):\n",
    "    \"\"\"\n",
    "    Lightens the given color by multiplying (1-luminosity) by the given amount.\n",
    "    Input can be matplotlib color string, hex string, or RGB tuple.\n",
    "\n",
    "    Examples:\n",
    "    >> lighten_color('g', 0.3)\n",
    "    >> lighten_color('#F034A3', 0.6)\n",
    "    >> lighten_color((.3,.55,.1), 0.5)\n",
    "    \"\"\"\n",
    "    import colorsys\n",
    "    h = color.lstrip('#')\n",
    "    \n",
    "    c = tuple(int(h[i:i+2], 16) for i in (0, 2, 4))\n",
    "    c = map(lambda x:min(x+10,255),c)\n",
    "    c = map(lambda x:hex(x)[2:],c)\n",
    "    return \"#{}{}{}\".format(*c)"
   ]
  },
  {
   "cell_type": "code",
   "execution_count": 4,
   "metadata": {},
   "outputs": [],
   "source": [
    "#sns.set_palette(sns.color_palette(\"Paired\"))\n",
    "\n",
    "palette = sns.color_palette().as_hex()\n",
    "style = {\n",
    "    \"aws\":{\n",
    "        \"name\":\"AWS\",\n",
    "        \"color\":palette[0]\n",
    "    },\n",
    "    \"ibm\":{\n",
    "        \"name\":\"ICF\",\n",
    "        \"color\":palette[1]\n",
    "    },\n",
    "    \"gcf\":{\n",
    "        \"name\":\"GCF\",\n",
    "        \"color\":palette[2]\n",
    "    },\n",
    "    \"azure\":{\n",
    "        \"name\":\"MAF\",\n",
    "        \"color\":palette[4]\n",
    "    },\n",
    "    \"CNew\":{\n",
    "        \"New\":\"#0485d1\",\n",
    "        \"Cold\":\"#0485d1\",\n",
    "        \"Reused\": \"#fc5a50\",\n",
    "        \"Warm\": \"#fc5a50\"\n",
    "    },\n",
    "    #colors\n",
    "    \"Lats\":{\n",
    "        \"Delivery Latency\":\"#d1ffbd\",\n",
    "        \"Request Response Latency\":\"#448ee4\",\n",
    "        \"Execution Latency\":\"#25a36f\",\n",
    "        \"Backward Response Delivery Latency\":\"#89a203\",\n",
    "        \"Delivery \":\"#d1ffbd\",\n",
    "        \"Request Response\":\"#448ee4\",\n",
    "        \"Execution\":\"#25a36f\",\n",
    "        \"Backward Response Delivery\":\"#89a203\",\n",
    "        \"DLat\":\"#d1ffbd\",\n",
    "        \"BLat\":\"#89a203\",\n",
    "        \"RLat\":\"#448ee4\",\n",
    "        \"ELat\":\"#25a36f\"\n",
    "    },\n",
    "    \"Phases\":{\n",
    "        \"p0\":\"#74B52F\",\n",
    "        \"p2\":\"#2F74B5\",\n",
    "        \"p1\":\"#B52F74\",\n",
    "        \"warmup\":\"#74B52F\",\n",
    "        \"cooldown\":\"#2F74B5\",\n",
    "        \"scaling\":\"#B52F74\"\n",
    "    },\n",
    "    #Strings\n",
    "    \"Names\":{\n",
    "        \"DLat\":\"Delivery Latency\",\n",
    "        \"RLat\":\"Request Response Latency\",\n",
    "        \"ELat\":\"Execution Latency\",\n",
    "        \"BLat\":\"Backward Response Delivery Latency\",\n",
    "        \"p0\":\"warmup\",\n",
    "        \"p1\":\"scaling\",\n",
    "        \"p2\":\"cooldown\",\n",
    "        \"HId\":\"VM\",\n",
    "        \"CId\":\"Container\"\n",
    "    }\n",
    "    \n",
    "}\n",
    "sns.set(style=\"whitegrid\")"
   ]
  },
  {
   "cell_type": "code",
   "execution_count": 5,
   "metadata": {},
   "outputs": [],
   "source": [
    "all = all[(all[\"Phase\"] != \"none\")]"
   ]
  },
  {
   "cell_type": "markdown",
   "metadata": {},
   "source": [
    "### DLat vs Cold Start"
   ]
  },
  {
   "cell_type": "code",
   "execution_count": 6,
   "metadata": {},
   "outputs": [],
   "source": [
    "def plotLatColdWarm(ax,all,provider,workload,lat=\"DLat\",title=None):\n",
    "    if title is None:\n",
    "        ax.set_title(\"{} {}\".format(style[provider][\"name\"],style[\"Names\"][lat]))\n",
    "    else:\n",
    "        ax.set_title(title)\n",
    "    data = all[(all[\"Provider\"] == provider) & (all[\"WL\"] == workload)]\n",
    "    #data = data[data[\"DLat\"].notna()]\n",
    "    #data = data[data[\"RCode\"] != 429] #filters filed requests e.g. azure\n",
    "    #data = data[data[\"Phase\"].isin([\"p1\",\"p2\"])]\n",
    "\n",
    "    data = data.replace({'CNew': \"New\"}, {'CNew': 'Cold'})\n",
    "    data = data.replace({'CNew': \"Reused\"}, {'CNew': 'Warm'})\n",
    "    data = data.rename(columns={\"CNew\":\"Type\"})\n",
    "    sns.violinplot(x='Phase', y=lat,hue=\"Type\", data=data,  scale='area',\n",
    "                   cut=0,ax=ax,  inner='quartile',split=True,bw='scott',\n",
    "                   scale_hue=True,palette=style[\"CNew\"])\n",
    "\n",
    "    #ax.set_yscale('log')\n",
    "\n",
    "    ax.set_xlabel(\"Phases\")\n",
    "    ax.set_ylabel(r\"Latency [s]\")\n",
    "    #ax.set_ylim([0,20])\n",
    "    #highlight phases\n",
    "\n",
    "    #ax.set_xticklabels([\"p0\",\"p1\",\"p2\",\"none\"])\n",
    "\n",
    "    delta = 0.02\n",
    "    delta = 0.02\n",
    "    inner = None\n",
    "    #code for gap between violin halves, from stackoverflow.com/questions/43357274/\n",
    "    for ii, item in enumerate(ax.collections):\n",
    "    # axis contains PolyCollections and PathCollections\n",
    "        if isinstance(item, matplotlib.collections.PolyCollection):\n",
    "        # get path\n",
    "            path, = item.get_paths()\n",
    "            vertices = path.vertices\n",
    "\n",
    "        # shift x-coordinates of path\n",
    "            if not inner:\n",
    "                if ii % 2: # -> to right\n",
    "                    vertices[:,0] += delta\n",
    "                else: # -> to left\n",
    "                    vertices[:,0] -= delta\n",
    "            else: # inner='box' adds another type of PollyCollection\n",
    "                if ii % 3 == 0:\n",
    "                    vertices[:,0] -= delta\n",
    "                elif ii % 3 == 1:\n",
    "                    vertices[:,0] += delta\n",
    "                else: # ii % 3 = 2\n",
    "                    pass"
   ]
  },
  {
   "cell_type": "code",
   "execution_count": 50,
   "metadata": {
    "scrolled": false
   },
   "outputs": [],
   "source": [
    "for workload in configs:\n",
    "    for provider in providers:\n",
    "        for lat in [\"DLat\",\"RLat\",\"ELat\"]:    \n",
    "            fig,ax = plt.subplots()\n",
    "            plotLatColdWarm(ax,all,provider,workload,lat)\n",
    "            ax.set_title(\"Cold/Warm {} for {} {}\".format(style[\"Names\"][lat],style[provider][\"name\"],workload))\n",
    "            fig.savefig(\"reports/CW_{}_{}_{}.pdf\".format(lat,provider,workload))\n",
    "            plt.close(fig)"
   ]
  },
  {
   "cell_type": "markdown",
   "metadata": {},
   "source": [
    "### Cost per Request"
   ]
  },
  {
   "cell_type": "code",
   "execution_count": 7,
   "metadata": {},
   "outputs": [],
   "source": [
    "def costPerSecond(ax,all,workload,providers=[\"aws\",\"azure\",\"ibm\",\"gcf\"],title=None):\n",
    "    \n",
    "    data = all[(all[\"WL\"] == workload)&(all[\"Provider\"].isin(providers))]\n",
    "    #plot\n",
    "    data = data[data[\"RLat\"].notna()]\n",
    "    data = data[data[\"RCode\"] != 429] #filters filed requests e.g. azure\n",
    "    data = data[data[\"Phase\"].isin([\"p1\",\"p2\"])]\n",
    "    \n",
    "    data = data.replace({'Phase': \"p1\"}, {'Phase': style[\"Names\"][\"p1\"]})\n",
    "    data = data.replace({'Phase': \"p2\"}, {'Phase': style[\"Names\"][\"p2\"]})\n",
    "    \n",
    "    sns.violinplot(x='Provider', y='ECost',hue=\"Phase\", data=data,  inner='quartile',split=True,\n",
    "                  palette=style[\"Phases\"])\n",
    "\n",
    "\n",
    "    # ax.set_xlim([0,300])\n",
    "    ax.set_xlabel(\"Phases\")\n",
    "    ax.set_ylabel(r\"Cost [$\\mu$\\$]\")\n",
    "    ax.set_ylim([0,600])\n",
    "    ax.xaxis.set_ticklabels(map(lambda x:style[x.get_text()][\"name\"],ax.xaxis.get_ticklabels()))\n",
    "    ax.grid(False)\n",
    "    #title\n",
    "    if title is None:\n",
    "        ax.set_title(\"{} - Cost per Request\".format(workload))\n",
    "    else:\n",
    "        ax.set_title(title)\n",
    "    "
   ]
  },
  {
   "cell_type": "code",
   "execution_count": 101,
   "metadata": {},
   "outputs": [],
   "source": [
    "for workload in configs:\n",
    "    fig,ax = plt.subplots()\n",
    "    costPerSecond(ax,all,workload)\n",
    "    fig.savefig(\"reports/costs_{}.pdf\".format(workload))\n",
    "    plt.close(fig)"
   ]
  },
  {
   "cell_type": "markdown",
   "metadata": {},
   "source": [
    "### VM Usage"
   ]
  },
  {
   "cell_type": "code",
   "execution_count": 8,
   "metadata": {},
   "outputs": [],
   "source": [
    "def plotHeatmap(ax,all,provider,workload,selector=\"HId\",cutoff=0.5,title=None):\n",
    "    #filter data\n",
    "    data = all[(all['Provider'] == provider) & (all[\"WL\"] == workload)]\n",
    "    data = data[[\"EStart\",\"EEnd\",selector,\"RId\"]].copy()\n",
    "    #remove NAN\n",
    "    data = data[data[\"EStart\"].notna()]\n",
    "    data = data.reset_index()\n",
    "    #second buckets\n",
    "    data[\"EStart\"] = round(data[\"EStart\"]/1000)\n",
    "    data[\"EEnd\"] = round(data[\"EEnd\"]/1000)\n",
    "\n",
    "    #remove lower 20%\n",
    "    X = data.groupby(selector)[\"RId\"].count().reset_index(name=\"c\")\n",
    "    X = X[X[\"c\"] > X[\"c\"].quantile(cutoff)]\n",
    "\n",
    "    HIdIndex = {}\n",
    "    idx = 0\n",
    "    for hid in X[selector].unique():\n",
    "        HIdIndex[hid] = idx\n",
    "        idx+=1\n",
    "    \n",
    "    heatmap = np.zeros((len(HIdIndex),150))\n",
    "    for i in range(1,len(data)):\n",
    "        x = data.loc[i,[selector,\"EStart\",\"EEnd\"]]\n",
    "        if x[selector] in HIdIndex.keys():\n",
    "            #lets never talk about this hack ;)\n",
    "            for j in np.arange(x[\"EStart\"],min(300,x[\"EEnd\"]),2,dtype=int):\n",
    "                \n",
    "                heatmap[HIdIndex[x[selector]],j>>1] +=1\n",
    "\n",
    "\n",
    "    sns.heatmap(heatmap,ax=ax,cmap=sns.cubehelix_palette(8),linewidths=0,cbar=False)\n",
    "\n",
    "    ax_divider = make_axes_locatable(ax)\n",
    "    # define size and padding of axes for colorbar\n",
    "    cax = ax_divider.append_axes('right', size = '2.5%', pad = '1%')\n",
    "    # make colorbar for heatmap. \n",
    "    # Heatmap returns an axes obj but you need to get a mappable obj (get_children)\n",
    "    colorbar(ax.get_children()[0], cax = cax, orientation = 'vertical')\n",
    "    # locate colorbar ticks\n",
    "    cax.xaxis.set_ticks_position('top')\n",
    "    ax.set_yticklabels([\"\"])\n",
    "    ax.set_xticks(ticks=[15,45,115])\n",
    "    \n",
    "    ax.set_xticks(ticks=range(0,151,30),minor=True)\n",
    "    ax.set_xticklabels(map(lambda x:style[\"Names\"][x],[\"p0\",\"p1\",\"p2\"]),rotation='horizontal')\n",
    "    ax.set_xticklabels(range(0,301,60),minor=True)\n",
    "    ax.tick_params(axis='x', which='major', pad=15)\n",
    "    if title is None:\n",
    "        ax.set_title(\"{} [{}] - Requests per {}\".format(style[provider][\"name\"],workload,style[\"Names\"][selector]))\n",
    "    else:\n",
    "        ax.set_title(title)\n",
    "    ax.set_ylabel(\"{}s\".format(style[\"Names\"][selector]))\n",
    "    ax.set_xlabel(\"time [s]\")\n",
    "    return heatmap\n"
   ]
  },
  {
   "cell_type": "code",
   "execution_count": 111,
   "metadata": {},
   "outputs": [],
   "source": [
    "for workload in configs:\n",
    "    for provider in providers:\n",
    "        for selector in [\"HId\",\"CId\"]:\n",
    "            fig,ax = plt.subplots()\n",
    "            h = plotHeatmap(ax,all,provider,workload,selector=selector,cutoff=0.33)\n",
    "            fig.savefig(\"reports/{}_heatmap_{}_{}.pdf\".format(\n",
    "                style[\"Names\"][selector],style[provider][\"name\"],workload)\n",
    "            )\n",
    "            plt.close(fig)"
   ]
  },
  {
   "cell_type": "markdown",
   "metadata": {},
   "source": [
    "## Failed Request"
   ]
  },
  {
   "cell_type": "code",
   "execution_count": 9,
   "metadata": {},
   "outputs": [],
   "source": [
    "def plotFailedRequestPerSecond(ax,all,provider,workload,plot_target=True,label=None,title=None):\n",
    "    data = all[(all['Provider'] == provider) & (all[\"WL\"] == workload)]\n",
    "    data = data.copy()\n",
    "    if plot_target:\n",
    "        plotWorkload(ax,data)\n",
    "        \n",
    "    data[\"RStart_1s\"] = round(data[\"RStart\"]/1000)\n",
    "    #sum up cost\n",
    "    data = data.groupby([\"RStart_1s\"])[\"RFailed\"].sum().reset_index(name=\"RFailed\")\n",
    "    if label == None:\n",
    "        label = \"{}\".format(style[provider][\"name\"])\n",
    "    \n",
    "    data = data[data[\"RFailed\"] > 0]\n",
    "    ax.scatter(x=\"RStart_1s\", marker=\"+\",y='RFailed', data=data, color=\"indianred\",label=label,s=40)\n",
    "    ax.set_xlim([0,300])\n",
    "    ax.set_xlabel(\"time [s]\")\n",
    "    ax.set_ylabel(r\"failed requests [#]\")\n",
    "\n",
    "    #highlight phases\n",
    "    ax.axvline(60,alpha=0.7,color=\"black\")\n",
    "    ax.axvline(120,alpha=0.7,color=\"black\")\n",
    "    for i in range(0,300,20):\n",
    "        ax.axvline(i,alpha=0.2,color=\"black\")\n",
    "    \n",
    "    ax.grid(False)\n",
    "    ax.set_xticks(ticks=[30,90,210])\n",
    "    ax.set_xticks(ticks=range(0,300,20),minor=True)\n",
    "    ax.set_xticklabels([\"p0\",\"p1\",\"p2\"])\n",
    "    ax.set_xticklabels(range(0,300,20),minor=True)\n",
    "    ax.tick_params(axis='both', which='major', pad=15)\n",
    "    if title is None:\n",
    "        ax.set_title(\"{} - Failed Request per Second\".format(style[provider][\"name\"]))\n",
    "    else:\n",
    "        ax.set_title(title)\n",
    "    #title\n",
    "    "
   ]
  },
  {
   "cell_type": "code",
   "execution_count": 119,
   "metadata": {},
   "outputs": [
    {
     "data": {
      "image/png": "[encoded data removed]",
      "text/plain": [
       "<Figure size 432x288 with 1 Axes>"
      ]
     },
     "metadata": {},
     "output_type": "display_data"
    }
   ],
   "source": [
    "fig,ax = plt.subplots()\n",
    "plotFailedRequestPerSecond(ax,all,\"gcf\",\"0,0,1\")"
   ]
  },
  {
   "cell_type": "markdown",
   "metadata": {},
   "source": [
    "### Throughput"
   ]
  },
  {
   "cell_type": "code",
   "execution_count": 13,
   "metadata": {},
   "outputs": [],
   "source": [
    "def thruputPerSecond(ax,all,provider,workload,filter_failed=False,with_failed=True,title=None):\n",
    "    data = all[(all['Provider'] == provider) & (all[\"WL\"] == workload)]\n",
    "    data = data.copy()\n",
    "    \n",
    "    if with_failed:\n",
    "        plotFailedRequestPerSecond(ax,data,provider,workload,False,\n",
    "                                   \"Failed Requests\")\n",
    "    \n",
    "    if filter_failed:\n",
    "        data = data[data[\"RFailed\"] == False]\n",
    "        \n",
    "    data[\"REnd_1s\"] = round(data[\"REnd\"]/1000)\n",
    "    plotWorkload(ax,data)\n",
    "    #goup by second\n",
    "    data = data.groupby([\"REnd_1s\",\"CNew\"])[\"RId\"].count().reset_index(name=\"throughput\")\n",
    "    #plot\n",
    "    ax.scatter(x=\"REnd_1s\",y=\"throughput\",marker=\"o\",data=data[data[\"CNew\"] == \"Reused\"],\n",
    "               label=\"Throughput (Warm)\",c=style[provider][\"color\"],s=12)\n",
    "    ax.scatter(x=\"REnd_1s\",y=\"throughput\",marker=\"s\",data=data[data[\"CNew\"] == \"New\"],\n",
    "               label=\"Throughput (Cold)\",c=lighten_color(style[provider][\"color\"],0.8),\n",
    "               alpha=0.8,s=12)\n",
    "    \n",
    "    ax.set_xlim([0,300])\n",
    "    ax.set_xlabel(\"Time [s]\")\n",
    "    ax.set_ylabel(r\"Request [#]\")\n",
    "    ax.set_ylim([0,180])\n",
    "    \n",
    "    #highlight phases\n",
    "    ax.axvline(60,alpha=0.7,color=\"black\")\n",
    "    ax.axvline(120,alpha=0.7,color=\"black\")\n",
    "    for i in range(0,300,20):\n",
    "        ax.axvline(i,alpha=0.1,color=\"black\")\n",
    "    \n",
    "    ax.grid(False)\n",
    "    ax.set_xticks(ticks=[30,90,210])\n",
    "    ax.set_xticks(ticks=range(0,301,20),minor=True)\n",
    "    ax.set_xticklabels(map(lambda x:style[\"Names\"][x],[\"p0\",\"p1\",\"p2\"]),minor=False)\n",
    "    ax.set_xticklabels(range(0,301,20),minor=True)\n",
    "    ax.tick_params(axis='both', which='major', pad=15)\n",
    "\n",
    "    #title\n",
    "    if title is None:\n",
    "        ax.set_title(\"{} [{}] - Throughput per Second\".format(style[provider][\"name\"],workload))\n",
    "    else:\n",
    "        ax.set_title(title)\n",
    "    #legend\n",
    "    ax.legend()\n"
   ]
  },
  {
   "cell_type": "code",
   "execution_count": 14,
   "metadata": {},
   "outputs": [
    {
     "data": {
      "image/png": "[encoded data removed]",
      "text/plain": [
       "<Figure size 432x288 with 1 Axes>"
      ]
     },
     "metadata": {},
     "output_type": "display_data"
    }
   ],
   "source": [
    "fig,ax = plt.subplots()\n",
    "thruputPerSecond(ax,all,\"azure\",\"0,0,1\",False)"
   ]
  },
  {
   "cell_type": "markdown",
   "metadata": {},
   "source": [
    "## Merged Latancy Plot"
   ]
  },
  {
   "cell_type": "code",
   "execution_count": 15,
   "metadata": {},
   "outputs": [],
   "source": [
    "def plotLatencyViolin(ax,all,provider,workload,title=None):\n",
    "    #title\n",
    "    if title is None:\n",
    "        ax.set_title(\"{} [{}] Latencies\".format(style[provider][\"name\"],workload))\n",
    "    else:\n",
    "        ax.set_title(title)\n",
    "    \n",
    "    data = all[(all['Provider'] == provider) & (all[\"WL\"] == workload)]\n",
    "    data = data[data[\"ELat\"].notna()]\n",
    "    data = data[data[\"RCode\"] != 429] #filters filed requests e.g. azure\n",
    "    #data = data[data[\"Phase\"].isin([\"p1\",\"p2\"])]\n",
    "    #This is mindfuck, lets not talk about it!\n",
    "    data = data[[\"RLat\",\"ELat\",\"Phase\"]].melt([\"Phase\"])\n",
    "    data = data.replace({'variable': \"ELat\"}, {'variable': style[\"Names\"][\"ELat\"][:-8]})\n",
    "    data = data.replace({'variable': \"RLat\"}, {'variable': style[\"Names\"][\"RLat\"][:-8]})\n",
    "    data = data.rename(columns={\"variable\": \"Latencies\"})\n",
    "    sns.violinplot(x='Phase', y='value',hue=\"Latencies\", data=data,  scale='area',\n",
    "                   cut=0,ax=ax,  inner='quartile',split=True,palette=style[\"Lats\"])\n",
    "\n",
    "    #ax.set_yscale('log')\n",
    "\n",
    "    ax.set_xlabel(\"Phases\")\n",
    "    ax.set_ylabel(r\"Latency [s]\")\n",
    "    #ax.set_ylim([0,20])\n",
    "    #highlight phases\n",
    "\n",
    "    ax.set_xticklabels(map(lambda x:style[\"Names\"][x],[\"p0\",\"p1\",\"p2\"]))\n",
    "\n",
    "    delta = 0.02\n",
    "    delta = 0.02\n",
    "    inner = None\n",
    "    #code for gap between violin halves, from stackoverflow.com/questions/43357274/\n",
    "    for ii, item in enumerate(ax.collections):\n",
    "    # axis contains PolyCollections and PathCollections\n",
    "        if isinstance(item, matplotlib.collections.PolyCollection):\n",
    "        # get path\n",
    "            path, = item.get_paths()\n",
    "            vertices = path.vertices\n",
    "\n",
    "        # shift x-coordinates of path\n",
    "            if not inner:\n",
    "                if ii % 2: # -> to right\n",
    "                    vertices[:,0] += delta\n",
    "                else: # -> to left\n",
    "                    vertices[:,0] -= delta\n",
    "            else: # inner='box' adds another type of PollyCollection\n",
    "                if ii % 3 == 0:\n",
    "                    vertices[:,0] -= delta\n",
    "                elif ii % 3 == 1:\n",
    "                    vertices[:,0] += delta\n",
    "                else: # ii % 3 = 2\n",
    "                    pass"
   ]
  },
  {
   "cell_type": "code",
   "execution_count": 16,
   "metadata": {},
   "outputs": [],
   "source": [
    "for workload in configs:\n",
    "    for provider in providers:\n",
    "        fig,ax = plt.subplots()\n",
    "        h = plotLatencyViolin(ax,all,provider,workload)\n",
    "        fig.savefig(\"reports/latencies_{}_{}.pdf\".format(\n",
    "           style[provider][\"name\"],workload)\n",
    "        )\n",
    "        plt.close(fig)"
   ]
  },
  {
   "cell_type": "code",
   "execution_count": 17,
   "metadata": {
    "scrolled": false
   },
   "outputs": [
    {
     "name": "stderr",
     "output_type": "stream",
     "text": [
      "/usr/lib/python3.7/site-packages/ipykernel_launcher.py:17: UserWarning: This figure includes Axes that are not compatible with tight_layout, so results might be incorrect.\n",
      "/usr/lib/python3.7/site-packages/ipykernel_launcher.py:17: UserWarning: This figure includes Axes that are not compatible with tight_layout, so results might be incorrect.\n",
      "/usr/lib/python3.7/site-packages/ipykernel_launcher.py:17: UserWarning: This figure includes Axes that are not compatible with tight_layout, so results might be incorrect.\n",
      "/usr/lib/python3.7/site-packages/ipykernel_launcher.py:17: UserWarning: This figure includes Axes that are not compatible with tight_layout, so results might be incorrect.\n",
      "/usr/lib/python3.7/site-packages/ipykernel_launcher.py:17: UserWarning: This figure includes Axes that are not compatible with tight_layout, so results might be incorrect.\n",
      "/usr/lib/python3.7/site-packages/ipykernel_launcher.py:17: UserWarning: This figure includes Axes that are not compatible with tight_layout, so results might be incorrect.\n",
      "/usr/lib/python3.7/site-packages/ipykernel_launcher.py:17: UserWarning: This figure includes Axes that are not compatible with tight_layout, so results might be incorrect.\n",
      "/usr/lib/python3.7/site-packages/ipykernel_launcher.py:17: UserWarning: This figure includes Axes that are not compatible with tight_layout, so results might be incorrect.\n",
      "/usr/lib/python3.7/site-packages/ipykernel_launcher.py:17: UserWarning: This figure includes Axes that are not compatible with tight_layout, so results might be incorrect.\n",
      "/usr/lib/python3.7/site-packages/ipykernel_launcher.py:17: UserWarning: This figure includes Axes that are not compatible with tight_layout, so results might be incorrect.\n",
      "/usr/lib/python3.7/site-packages/ipykernel_launcher.py:17: UserWarning: This figure includes Axes that are not compatible with tight_layout, so results might be incorrect.\n",
      "/usr/lib/python3.7/site-packages/ipykernel_launcher.py:17: UserWarning: This figure includes Axes that are not compatible with tight_layout, so results might be incorrect.\n",
      "/usr/lib/python3.7/site-packages/ipykernel_launcher.py:17: UserWarning: This figure includes Axes that are not compatible with tight_layout, so results might be incorrect.\n",
      "/usr/lib/python3.7/site-packages/ipykernel_launcher.py:17: UserWarning: This figure includes Axes that are not compatible with tight_layout, so results might be incorrect.\n",
      "/usr/lib/python3.7/site-packages/ipykernel_launcher.py:17: UserWarning: This figure includes Axes that are not compatible with tight_layout, so results might be incorrect.\n",
      "/usr/lib/python3.7/site-packages/ipykernel_launcher.py:17: UserWarning: This figure includes Axes that are not compatible with tight_layout, so results might be incorrect.\n",
      "/usr/lib/python3.7/site-packages/ipykernel_launcher.py:17: UserWarning: This figure includes Axes that are not compatible with tight_layout, so results might be incorrect.\n",
      "/usr/lib/python3.7/site-packages/ipykernel_launcher.py:17: UserWarning: This figure includes Axes that are not compatible with tight_layout, so results might be incorrect.\n",
      "/usr/lib/python3.7/site-packages/ipykernel_launcher.py:17: UserWarning: This figure includes Axes that are not compatible with tight_layout, so results might be incorrect.\n",
      "/usr/lib/python3.7/site-packages/ipykernel_launcher.py:17: UserWarning: This figure includes Axes that are not compatible with tight_layout, so results might be incorrect.\n"
     ]
    }
   ],
   "source": [
    "from matplotlib.backends.backend_pdf import PdfPages\n",
    "from matplotlib.gridspec import GridSpec\n",
    "with PdfPages(\"reports/overview.pdf\") as pdf:\n",
    "    for workload in configs:\n",
    "        for provider in providers:\n",
    "            fig = plt.figure(figsize=(12,10))\n",
    "            gs = GridSpec(2, 2, figure=fig)\n",
    "            plt.suptitle(\"Results for {} - {}\".format(workload,style[provider][\"name\"]), fontsize=16,y=0.99)\n",
    "            ax = fig.add_subplot(gs[0, 0])\n",
    "            plotLatencyViolin(ax,all,provider,workload,title=\"Latencies per Phase\")\n",
    "            ax = fig.add_subplot(gs[0, 1])\n",
    "            plotHeatmap(ax,all,provider,workload,cutoff=0.5,title=\"VM Utilization per Second\")\n",
    "            ax = fig.add_subplot(gs[1, :])\n",
    "            thruputPerSecond(ax,all,provider,workload,title=\"Throughput per Second\")\n",
    "            #ax = fig.add_subplot(gs[1, 1])\n",
    "            #costPerSecond(ax,all,provider,workload)\n",
    "            plt.tight_layout()\n",
    "            pdf.savefig(fig)\n",
    "            fig.savefig(\"reports/overview_{}_{}.pdf\".format(\n",
    "               style[provider][\"name\"],workload)\n",
    "            )\n",
    "            plt.close(fig)\n"
   ]
  }
 ],
 "metadata": {
  "kernelspec": {
   "display_name": "Python 3",
   "language": "python",
   "name": "python3"
  },
  "language_info": {
   "codemirror_mode": {
    "name": "ipython",
    "version": 3
   },
   "file_extension": ".py",
   "mimetype": "text/x-python",
   "name": "python",
   "nbconvert_exporter": "python",
   "pygments_lexer": "ipython3",
   "version": "3.7.4"
  }
 },
 "nbformat": 4,
 "nbformat_minor": 2
}
