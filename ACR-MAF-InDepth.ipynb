{
 "cells": [
  {
   "cell_type": "code",
   "execution_count": 1,
   "metadata": {
    "scrolled": true
   },
   "outputs": [
    {
     "name": "stderr",
     "output_type": "stream",
     "text": [
      "<ipython-input-1-ce831e714e12>:13: MatplotlibDeprecationWarning: \n",
      "The mpl_toolkits.axes_grid1.colorbar module was deprecated in Matplotlib 3.2 and will be removed two minor releases later. Use matplotlib.colorbar instead.\n",
      "  from mpl_toolkits.axes_grid1.colorbar import colorbar\n"
     ]
    }
   ],
   "source": [
    "import pandas as pd\n",
    "import matplotlib.pyplot as plt\n",
    "import matplotlib\n",
    "import seaborn as sns\n",
    "import numpy as np\n",
    "import matplotlib.collections\n",
    "from scipy.interpolate import interp1d\n",
    "sns.set()\n",
    "from results import load\n",
    "from matplotlib.lines import Line2D\n",
    "\n",
    "from mpl_toolkits.axes_grid1.axes_divider import make_axes_locatable\n",
    "from mpl_toolkits.axes_grid1.colorbar import colorbar\n",
    "from functions import *\n",
    "#constants\n",
    "experiment_phase = {'p0':60000, 'p1':60000, 'p2':180000}\n",
    "experiment_phase_labels = [*experiment_phase]\n",
    "\n",
    "#avoid Font-problem in plots for ACM/IEEE papers\n",
    "plt.rcParams['pdf.fonttype'] = 42\n",
    "plt.rcParams['ps.fonttype'] = 42"
   ]
  },
  {
   "cell_type": "markdown",
   "metadata": {},
   "source": [
    "# Reading the results"
   ]
  },
  {
   "cell_type": "code",
   "execution_count": 2,
   "metadata": {},
   "outputs": [],
   "source": [
    "import os\n"
   ]
  },
  {
   "cell_type": "code",
   "execution_count": 3,
   "metadata": {
    "scrolled": true
   },
   "outputs": [
    {
     "data": {
      "text/plain": [
       "Index(['RId', 'CIdOld', 'WL', 'CId', 'CStart', 'ECost', 'DLat', 'ELat', 'FOpt',\n",
       "       'RFailed', 'Phase', 'RStart', 'EStart', 'EEnd', 'REnd', 'CNew', 'CPlat',\n",
       "       'TLat', 'COs', 'PlatfromName', 'RInput', 'Provider', 'FEnv', 'Region',\n",
       "       'RLat', 'BLat', 'RResult', 'run', 'sourceFile', 'RCode', 'RSuccessed',\n",
       "       'HIdOld', 'HId'],\n",
       "      dtype='object')"
      ]
     },
     "execution_count": 3,
     "metadata": {},
     "output_type": "execute_result"
    }
   ],
   "source": [
    "#config\n",
    "experiment_name = \"low\"\n",
    "all = None\n",
    "\n",
    "providers = [\"azure\"] \n",
    "num_repetitions = 2\n",
    "configs = os.listdir(\"results/low\")\n",
    "\n",
    "\n",
    "all = load(experiment_name, providers,configs,num_repetitions,True)\n",
    "\n",
    "all.columns"
   ]
  },
  {
   "cell_type": "markdown",
   "metadata": {},
   "source": [
    "### Styles and Constants"
   ]
  },
  {
   "cell_type": "code",
   "execution_count": 4,
   "metadata": {},
   "outputs": [],
   "source": [
    "#sns.set_palette(sns.color_palette(\"Paired\"))\n",
    "\n",
    "palette = sns.color_palette().as_hex()\n",
    "style = {\n",
    "    \"aws\":{\n",
    "        \"name\":\"AWS\",\n",
    "        \"color\":palette[8]\n",
    "    },\n",
    "    \"ibm\":{\n",
    "        \"name\":\"ICF\",\n",
    "        \"color\":palette[1]\n",
    "    },\n",
    "    \"gcf\":{\n",
    "        \"name\":\"GCF\",\n",
    "        \"color\":palette[2]\n",
    "    },\n",
    "    \"azure\":{\n",
    "        \"name\":\"MAF\",\n",
    "        \"color\":palette[4]\n",
    "    },\n",
    "    \"CNew\":{\n",
    "        \"New\":\"#0485d1\",\n",
    "        \"Cold\":\"#0485d1\",\n",
    "        \"Reused\": \"#fc5a50\",\n",
    "        \"Warm\": \"#fc5a50\"\n",
    "    },\n",
    "    #colors\n",
    "    \"Lats\":{\n",
    "        \"Delivery Latency\":\"#d1ffbd\",\n",
    "        \"Request-Response Latency\":\"#448ee4\",\n",
    "        \"Execution Latency\":\"#25a36f\",\n",
    "        \"Backward Response Delivery Latency\":\"#89a203\",\n",
    "        \"Delivery\":\"#89a203\",\n",
    "        \"Delivery Latency\":\"#89a203\",\n",
    "        \"Request-Response\":\"#448ee4\",\n",
    "        \"Execution\":\"#25a36f\",\n",
    "        \"Backward Response Delivery\":\"#89a203\",\n",
    "        \"DLat\":\"#89a203\",\n",
    "        \"BLat\":\"#89a203\",\n",
    "        \"RLat\":\"#448ee4\",\n",
    "        \"ELat\":\"#25a36f\"\n",
    "    },\n",
    "    \"Phases\":{\n",
    "        \"p0\":\"#74B52F\",\n",
    "        \"p2\":\"#2F74B5\",\n",
    "        \"p1\":\"#B52F74\",\n",
    "        \"warmup\":\"#74B52F\",\n",
    "        \"cooldown\":\"#2F74B5\",\n",
    "        \"scaling\":\"#B52F74\"\n",
    "    },\n",
    "    #Strings\n",
    "    \"Names\":{\n",
    "        \"DLat\":\"Delivery Latency\",\n",
    "        \"RLat\":\"Request-Response Latency\",\n",
    "        \"ELat\":\"Execution Latency\",\n",
    "        \"BLat\":\"Backward Response Delivery Latency\",\n",
    "        \"p0\":\"warmup\",\n",
    "        \"p1\":\"scaling\",\n",
    "        \"p2\":\"cooldown\",\n",
    "        \"HId\":\"VM\",\n",
    "        \"CId\":\"Container\",\n",
    "        \"HIdOld\":\"VM (old method)\",\n",
    "        \"FEnv\":\"VM\",\n",
    "        \"FOpt\":\"VM\",\n",
    "        \"CIdOld\":\"Container\",\n",
    "    }\n",
    "    \n",
    "}\n",
    "\n",
    "hmcmp = [(1,1,1,1)]+sns.color_palette(\"OrRd\", 10)\n",
    "\n",
    "sns.set(style=\"whitegrid\")\n",
    "\n",
    "legendShapes = []\n",
    "legendNames = []\n",
    "for x in [\"RLat\",\"ELat\",\"DLat\"]:\n",
    "    c = style[\"Lats\"][x]\n",
    "    legendShapes.append(Line2D([0], [0], marker='s', lw=0,color=c,markerfacecolor=c, markersize=10))\n",
    "    legendNames.append(x)\n",
    "\n",
    "for x in [\"New\",\"Reused\"]:\n",
    "    c = style[\"CNew\"][x]\n",
    "    legendShapes.append(Line2D([0], [0], marker='s', lw=0,color=c,markerfacecolor=c, markersize=10))\n",
    "    legendNames.append(x)\n",
    "\n",
    "for x in [\"p0\",\"p1\",\"p2\"]:\n",
    "    c = style[\"Phases\"][x]\n",
    "    legendShapes.append(Line2D([0], [0], marker='s', lw=0,color=c,markerfacecolor=c, markersize=10))\n",
    "    legendNames.append(x)\n",
    "\n",
    "for x in [\"aws\",\"ibm\",\"gcf\",\"azure\"]:\n",
    "    c = style[x][\"color\"]\n",
    "    legendShapes.append(Line2D([0], [0], marker='s', lw=0,color=c,markerfacecolor=c, markersize=10))\n",
    "    legendNames.append(x)\n",
    "\n"
   ]
  },
  {
   "cell_type": "code",
   "execution_count": 5,
   "metadata": {},
   "outputs": [
    {
     "data": {
      "text/plain": [
       "array(['5,5,0', '15,15,0', '0,0,1', '60,60,0'], dtype=object)"
      ]
     },
     "execution_count": 5,
     "metadata": {},
     "output_type": "execute_result"
    }
   ],
   "source": [
    "#this is important for phase based plots (leave it otherwise)\n",
    "all = all[(all[\"Phase\"] != \"none\")]\n",
    "all[\"WL\"].unique()"
   ]
  },
  {
   "cell_type": "code",
   "execution_count": 6,
   "metadata": {},
   "outputs": [],
   "source": [
    "dlat_ylims = {\n",
    "    \"aws\":{\"0,0,0.5\":[0,5],\"0,0,1\":[0,5],\"0,0,2\":[0,5],\"60,60,0.5\":[0,5],\"60,60,1\":[0,5],\"60,60,0\":[0,5]},\n",
    "    \"ibm\":{\"0,0,0.5\":[0,5],\"0,0,1\":[0,5],\"0,0,2\":[0,5],\"60,60,0.5\":[0,5],\"60,60,1\":[0,5],\"60,60,0\":[0,5]},\n",
    "    \"azure\":{\"0,0,0.5\":[0,30],\"0,0,1\":[0,30],\"0,0,2\":[0,30],\"60,60,0.5\":[0,30],\"60,60,1\":[0,30],\"60,60,0\":[0,30]},\n",
    "    \"gcf\":{\"0,0,0.5\":[0,30],\"0,0,1\":[0,30],\"0,0,2\":[0,30],\"60,60,0.5\":[0,30],\"60,60,1\":[0,5],\"60,60,0\":[0,5]}\n",
    "}\n",
    "ylims = dlat_ylims"
   ]
  },
  {
   "cell_type": "markdown",
   "metadata": {},
   "source": [
    "# Masterplot V2"
   ]
  },
  {
   "cell_type": "code",
   "execution_count": 7,
   "metadata": {},
   "outputs": [],
   "source": [
    "from matplotlib.backends.backend_pdf import PdfPages\n",
    "from matplotlib.gridspec import GridSpec\n",
    "all_280 = all#[all[\"EStart\"].isna() | all[\"EStart\"] < 280000 ]\n",
    "all_280 = all_280[all_280[\"run\"]==1]\n",
    "#Latency Limits\n",
    "default = [0,60]\n",
    "ylims = {\n",
    "        \"aws\":{\"0,0,0.5\":default,\"0,0,1\":default,\"0,0,2\":default,\"60,60,0.5\":default,\"60,60,1\":default,\"60,60,0\":default},\n",
    "        \"ibm\":{\"0,0,0.5\":default,\"0,0,1\":default,\"0,0,2\":default,\"60,60,0.5\":default,\"60,60,1\":default,\"60,60,0\":default},\n",
    "        \"azure\":{\"0,0,0.5\":default,\"0,0,1\":default,\"0,0,2\":default,\"60,60,0.5\":default,\"60,60,1\":default,\"60,60,0\":default,\"5,5,0\":default,\"15,15,0\":default},\n",
    "        \"gcf\":{\"0,0,0.5\":default,\"0,0,1\":default,\"0,0,2\":default,\"60,60,0.5\":default,\"60,60,1\":default,\"60,60,0\":default},\n",
    "}\n",
    "\n",
    "\n",
    "#Heatmap obergrenze\n",
    "vmax=20\n",
    "#Heatmap VM-cutoff (VMs mit weniger als x [%] auslastung  ) Reduziert verticale dichte und rechenzeit\n",
    "cutoff=0.1"
   ]
  },
  {
   "cell_type": "code",
   "execution_count": 12,
   "metadata": {},
   "outputs": [
    {
     "data": {
      "text/plain": [
       "Provider  WL     \n",
       "azure     0,0,1      2\n",
       "          15,15,0    1\n",
       "          5,5,0      2\n",
       "          60,60,0    2\n",
       "Name: FOpt, dtype: int64"
      ]
     },
     "execution_count": 12,
     "metadata": {},
     "output_type": "execute_result"
    }
   ],
   "source": [
    "all_280.groupby([\"Provider\",\"WL\"])[\"FOpt\"].apply(lambda x:len(x.unique()))"
   ]
  },
  {
   "cell_type": "code",
   "execution_count": 20,
   "metadata": {},
   "outputs": [],
   "source": [
    "all_280.loc[all_280[\"FOpt\"].isna(),\"FOpt\"] = \"unk\""
   ]
  },
  {
   "cell_type": "code",
   "execution_count": null,
   "metadata": {},
   "outputs": [],
   "source": [
    "heatmap_cache ={}\n",
    "\n",
    "with PdfPages(\"reports/maf_all.pdf\") as pdf:\n",
    "    for workload in configs:\n",
    "        for provider in providers:\n",
    "            fig = plt.figure(figsize=(14,15))\n",
    "            gs = fig.add_gridspec(ncols=2, nrows=2)\n",
    "            plt.suptitle(\"Results for {} - {}\".format(workload,style[provider][\"name\"]), fontsize=16,y=0.99)\n",
    "            ax = fig.add_subplot(gs[0, 0:2])\n",
    "            plotClientSideOverview(ax,all_280,provider,workload,style=style,ylim=ylims[provider][workload],\n",
    "                                   xlim=[0,280],with_thruput=True,title=\"Client-side Impacts\",legend=False)\n",
    "            legendShapes = [\n",
    "                Line2D([0], [0], color=\"gray\", lw=2),\n",
    "                Line2D([0], [0], marker='+', lw=0,color='indianred',markerfacecolor='indianred', markersize=10),\n",
    "                Line2D([0], [0], color=style[\"Lats\"][\"RLat\"], lw=2),\n",
    "                Line2D([0], [0], color=style[\"Lats\"][\"ELat\"], lw=2),\n",
    "                Line2D([0], [0], marker='|', lw=0,color='blue',markerfacecolor='blue', markersize=10)\n",
    "            ]\n",
    "            legendNames = [\"Target Workload\",\"Failed Requests\",style[\"Names\"][\"RLat\"],style[\"Names\"][\"ELat\"],\"First VM Occurrence\"]\n",
    "            ax.legend(legendShapes, legendNames,\n",
    "                loc='upper center', bbox_to_anchor=(0.5, 1.25),fancybox=True, shadow=True, ncol=2)\n",
    "            ax.set_xlabel(None)\n",
    "            ax = fig.add_subplot(gs[-1, 0])\n",
    "            plotHeatmap(ax,all_280,provider,workload,style,selector=\"FOpt\",cutoff=cutoff,xlim=[0,280],\n",
    "                        legend=False,title=\"Provider-side Impacts\",cmap=hmcmp,vmax=vmax,heatmap_cache=heatmap_cache)\n",
    "            for _, spine in ax.spines.items():\n",
    "                spine.set_visible(True)\n",
    "\n",
    "            ax = fig.add_subplot(gs[-1, 1])\n",
    "            plotHeatmap(ax,all_280,provider,workload,style,selector=\"CIdOld\",cutoff=cutoff,xlim=[0,280],\n",
    "                        legend=False,title=\"Provider-side Impacts\",cmap=hmcmp,vmax=vmax,heatmap_cache=heatmap_cache)\n",
    "            for _, spine in ax.spines.items():\n",
    "                spine.set_visible(True)\n",
    "            #plt.tight_layout()\n",
    "            pdf.savefig(fig, bbox_inches=\"tight\")\n",
    "            fig.savefig(\"reports/overview_tall_{}_{}.pdf\"\n",
    "                .format(style[provider][\"name\"],workload)\n",
    "                        , bbox_inches=\"tight\"\n",
    "            )\n",
    "            plt.show()\n",
    "            plt.close(fig)"
   ]
  }
 ],
 "metadata": {
  "kernelspec": {
   "display_name": "Python 3",
   "language": "python",
   "name": "python3"
  },
  "language_info": {
   "codemirror_mode": {
    "name": "ipython",
    "version": 3
   },
   "file_extension": ".py",
   "mimetype": "text/x-python",
   "name": "python",
   "nbconvert_exporter": "python",
   "pygments_lexer": "ipython3",
   "version": "3.8.3"
  }
 },
 "nbformat": 4,
 "nbformat_minor": 4
}
